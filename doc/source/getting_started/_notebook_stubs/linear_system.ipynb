{
 "cells": [
  {
   "cell_type": "markdown",
   "metadata": {},
   "source": [
    "## Problem 1: Linear system\n",
    "\n",
    "We consider the linear system\n",
    "\n",
    "$$\n",
    "A x = b,\\quad A \\in \\mathbb{R}^{m \\times n}\n",
    "$$\n",
    "\n",
    "for given $b\\in\\mathbb{R}^m$ and want to compute a least squares solution, i.e.\n",
    "\n",
    "$$\n",
    "x^\\ast = \\mathrm{arg}\\min_{x\\in\\mathbb{R}^n} \\frac{1}{2} \\lVert A x - b \\rVert_2^2.\n",
    "$$\n",
    "\n",
    "We choose a ridiculously small problem ($n = 3$, $m = 2$) for demonstration purposes."
   ]
  },
  {
   "cell_type": "code",
   "execution_count": null,
   "metadata": {
    "collapsed": true
   },
   "outputs": [],
   "source": [
    "import odl\n",
    "import numpy as np  # Package for n-dimensional array handling"
   ]
  },
  {
   "cell_type": "markdown",
   "metadata": {},
   "source": [
    "### Definition of the spaces"
   ]
  },
  {
   "cell_type": "markdown",
   "metadata": {},
   "source": [
    "$\\mathscr{X} := \\mathbb{R}^3$, $\\mathscr{Y} := \\mathbb{R}^3$"
   ]
  },
  {
   "cell_type": "code",
   "execution_count": null,
   "metadata": {
    "collapsed": true
   },
   "outputs": [],
   "source": [
    "X = odl.Rn(3)\n",
    "Y = odl.Rn(2)"
   ]
  },
  {
   "cell_type": "markdown",
   "metadata": {},
   "source": [
    "We can create elements of the spaces from given lists / arrays or with special methods:"
   ]
  },
  {
   "cell_type": "code",
   "execution_count": null,
   "metadata": {
    "collapsed": true
   },
   "outputs": [],
   "source": [
    "x1 = X.element([1, 2, 4])\n",
    "array = np.linspace(-1, 1, 3)\n",
    "x2 = X.element(array)  # [-1, 0, 1]\n",
    "x3 = X.one()  # [1, 1, 1]"
   ]
  },
  {
   "cell_type": "markdown",
   "metadata": {},
   "source": [
    "These vectors have access to all linear space functionality, e.g. arithmetic"
   ]
  },
  {
   "cell_type": "code",
   "execution_count": null,
   "metadata": {
    "collapsed": false
   },
   "outputs": [],
   "source": [
    "x1 + x2 - 1   # (1, 2, 4) + (-1, 0, 1) - 1"
   ]
  },
  {
   "cell_type": "code",
   "execution_count": null,
   "metadata": {
    "collapsed": false
   },
   "outputs": [],
   "source": [
    "x2 / x1  # (-1, 0, 1) / (1, 2, 4)   element-wise"
   ]
  },
  {
   "cell_type": "markdown",
   "metadata": {},
   "source": [
    "By default, we have the standard inner product\n",
    "$$\n",
    "\\langle x, y \\rangle = \\sum_{j=1}^n x_j\\, \\overline{y_j}\n",
    "$$\n",
    "and its induced norm:"
   ]
  },
  {
   "cell_type": "code",
   "execution_count": null,
   "metadata": {
    "collapsed": false
   },
   "outputs": [],
   "source": [
    "x1.inner(x3)  # <(1, 2, 4), (1, 1, 1)>"
   ]
  },
  {
   "cell_type": "code",
   "execution_count": null,
   "metadata": {
    "collapsed": false
   },
   "outputs": [],
   "source": [
    "x2.norm()  # sqrt(1^2 + 0^2 + 1^2)"
   ]
  },
  {
   "cell_type": "markdown",
   "metadata": {},
   "source": [
    "That can be changed, of course:"
   ]
  },
  {
   "cell_type": "code",
   "execution_count": null,
   "metadata": {
    "collapsed": false
   },
   "outputs": [],
   "source": [
    "Z = odl.Rn(3, exponent=1)  # 1-norm\n",
    "z = Z.element([1, 2, 3])\n",
    "z.norm()"
   ]
  },
  {
   "cell_type": "markdown",
   "metadata": {},
   "source": [
    "### Setup of data and system matrix"
   ]
  },
  {
   "cell_type": "markdown",
   "metadata": {},
   "source": [
    "We use\n",
    "$$ \n",
    "A = \n",
    "\\begin{pmatrix}\n",
    "  1 & 2 & 0 \\\\\n",
    "  -1 & 0 & 1\n",
    "\\end{pmatrix},\n",
    "\\qquad\n",
    "b =\n",
    "\\begin{pmatrix}\n",
    "  1\\\\\n",
    "  -1\n",
    "\\end{pmatrix}.\n",
    "$$\n"
   ]
  },
  {
   "cell_type": "code",
   "execution_count": null,
   "metadata": {
    "collapsed": true
   },
   "outputs": [],
   "source": [
    "b = Y.element([1, -1])"
   ]
  },
  {
   "cell_type": "code",
   "execution_count": null,
   "metadata": {
    "collapsed": true
   },
   "outputs": [],
   "source": [
    "A = np.array([[1.0, 2.0, 0.0],\n",
    "              [-1.0, 0.0, 1.0]])"
   ]
  },
  {
   "cell_type": "markdown",
   "metadata": {},
   "source": [
    "### Make an operator from the matrix"
   ]
  },
  {
   "cell_type": "markdown",
   "metadata": {},
   "source": [
    "**Mathematical definition:**\n",
    "\n",
    "$$\n",
    "\\mathcal{A}: \\mathscr{X} \\to \\mathscr{Y} \\\\\n",
    "\\mathcal{A}(x) := Ax\n",
    "$$\n",
    "\n",
    "The `Operator` class is the universal interface to solvers. For matrices, we can use the predefined `MatVecOperator`:"
   ]
  },
  {
   "cell_type": "code",
   "execution_count": null,
   "metadata": {
    "collapsed": true
   },
   "outputs": [],
   "source": [
    "A_op = odl.MatVecOperator(A, dom=X, ran=Y)  # dom and ran can be omitted - then domain and range are inferred"
   ]
  },
  {
   "cell_type": "markdown",
   "metadata": {},
   "source": [
    "To evaluate the operator, one simply calls it like a function:"
   ]
  },
  {
   "cell_type": "code",
   "execution_count": null,
   "metadata": {
    "collapsed": false
   },
   "outputs": [],
   "source": [
    "x = X.element([1, 1, 1])\n",
    "A_op(x)"
   ]
  },
  {
   "cell_type": "markdown",
   "metadata": {},
   "source": [
    "`A_op` is a bounded linear operator between Hilbert spaces, so it has an adjoint, given by the transposed matrix:\n",
    "\n",
    "$$\n",
    "\\mathcal{A}^\\ast: \\mathscr{Y} \\to \\mathscr{X} \\\\\n",
    "\\mathcal{A}^\\ast(y) = A^{\\mathrm{T}} y \\\\\n",
    "A^{\\mathrm{T}} = \n",
    "\\begin{pmatrix}\n",
    "  1 & -1 \\\\\n",
    "  2 & 0 \\\\\n",
    "  0 & 1\n",
    "\\end{pmatrix}\n",
    "$$\n"
   ]
  },
  {
   "cell_type": "code",
   "execution_count": null,
   "metadata": {
    "collapsed": false
   },
   "outputs": [],
   "source": [
    "A_op.adjoint"
   ]
  },
  {
   "cell_type": "code",
   "execution_count": null,
   "metadata": {
    "collapsed": false
   },
   "outputs": [],
   "source": [
    "A_op.adjoint.matrix"
   ]
  },
  {
   "cell_type": "markdown",
   "metadata": {},
   "source": [
    "It can be evaluated on any element of $\\mathscr{Y}$ - in fact, one can check if the adjoint is correct, in the sense that $\\langle \\mathcal{A}(x), b \\rangle_{\\mathscr{Y}} = \\langle x, \\mathcal{A}^* (b) \\rangle_{\\mathscr{X}}$:"
   ]
  },
  {
   "cell_type": "code",
   "execution_count": null,
   "metadata": {
    "collapsed": false
   },
   "outputs": [],
   "source": [
    "A_op(x).inner(b) == x.inner(A_op.adjoint(b))"
   ]
  },
  {
   "cell_type": "markdown",
   "metadata": {},
   "source": [
    "Operators can be added, multiplied by scalars (left and right), composed etc.:"
   ]
  },
  {
   "cell_type": "code",
   "execution_count": null,
   "metadata": {
    "collapsed": false
   },
   "outputs": [],
   "source": [
    "A_op_times_two = A_op * 2\n",
    "A_op_times_two(x)"
   ]
  },
  {
   "cell_type": "code",
   "execution_count": null,
   "metadata": {
    "collapsed": false
   },
   "outputs": [],
   "source": [
    "B = np.array([[1.0, 0.0, 0.0],\n",
    "              [0.0, 0.0, 1.0]])\n",
    "B_op = odl.MatVecOperator(B)\n",
    "\n",
    "sum_op = A_op + B_op\n",
    "sum_op(x)"
   ]
  },
  {
   "cell_type": "markdown",
   "metadata": {},
   "source": [
    "More complex example: $\\mathcal{T} = \\mathcal{A}^\\ast \\mathcal{A} + 2 \\mathcal{I}_{\\mathscr{X}}$"
   ]
  },
  {
   "cell_type": "code",
   "execution_count": null,
   "metadata": {
    "collapsed": false
   },
   "outputs": [],
   "source": [
    "T_op = (A_op.adjoint * A_op + 2 * odl.IdentityOperator(X))  # Tikhonov-type operator\n",
    "T_op(x)"
   ]
  },
  {
   "cell_type": "markdown",
   "metadata": {},
   "source": [
    "### Calling the solver"
   ]
  },
  {
   "cell_type": "code",
   "execution_count": null,
   "metadata": {
    "collapsed": false
   },
   "outputs": [],
   "source": [
    "x = X.zero()  # Start value\n",
    "odl.solvers.conjugate_gradient_normal(A_op, x, b, niter=3)"
   ]
  },
  {
   "cell_type": "code",
   "execution_count": null,
   "metadata": {
    "collapsed": false
   },
   "outputs": [],
   "source": [
    "x"
   ]
  },
  {
   "cell_type": "markdown",
   "metadata": {},
   "source": [
    "Checking the result - we expect $\\mathcal{A}^*(\\mathcal{A}(x^*) - b) = 0$:"
   ]
  },
  {
   "cell_type": "code",
   "execution_count": null,
   "metadata": {
    "collapsed": false
   },
   "outputs": [],
   "source": [
    "A_op.adjoint(A_op(x) - b)"
   ]
  },
  {
   "cell_type": "code",
   "execution_count": null,
   "metadata": {
    "collapsed": true
   },
   "outputs": [],
   "source": []
  }
 ],
 "metadata": {
  "kernelspec": {
   "display_name": "Python 3",
   "language": "python",
   "name": "python3"
  },
  "language_info": {
   "codemirror_mode": {
    "name": "ipython",
    "version": 3
   },
   "file_extension": ".py",
   "mimetype": "text/x-python",
   "name": "python",
   "nbconvert_exporter": "python",
   "pygments_lexer": "ipython3",
   "version": "3.5.2"
  }
 },
 "nbformat": 4,
 "nbformat_minor": 0
}
