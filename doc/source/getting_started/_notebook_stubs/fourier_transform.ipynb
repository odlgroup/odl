{
 "cells": [
  {
   "cell_type": "markdown",
   "metadata": {},
   "source": [
    "## Fourier transform\n",
    "\n",
    "This notebook showcases the use of the Fourier transform as an operator in two dimensions. Everything shown here works completely analogously in higher dimensions (and one dimension if applicable).\n",
    "\n",
    "In $d$ dimensions, the Fourier transform is defined as\n",
    "\n",
    "$$\n",
    "\\widehat{f}(\\xi) = \\mathcal{F}(f)(\\xi) = (2\\pi)^{-\\frac{d}{2}}\n",
    "    \\int_{\\mathbb{R}^d} f(x)\\ e^{-i \\langle x, \\xi\\rangle} \\, \\mathrm{d}x\n",
    "$$\n",
    "\n",
    "and can be applied to, e.g., functions in $L^2(\\mathbb{R}^d)$. ODL offers a way to use the discretization of this transform as an operator, thus making it available for all thinkable purposes in numerical methods."
   ]
  },
  {
   "cell_type": "code",
   "execution_count": null,
   "metadata": {
    "collapsed": true
   },
   "outputs": [],
   "source": [
    "import odl\n",
    "import numpy as np"
   ]
  },
  {
   "cell_type": "markdown",
   "metadata": {},
   "source": [
    "First, we define a discretization of the complex space $L^2(\\Omega, \\mathbb{C})$ for a rectangular domain $\\Omega \\subset \\mathbb{R}^2$. We choose $\\Omega = [-2, 2] \\times [0, 1]$ and square pixels:"
   ]
  },
  {
   "cell_type": "code",
   "execution_count": null,
   "metadata": {
    "collapsed": true
   },
   "outputs": [],
   "source": [
    "l2_discr = odl.uniform_discr([-2, 0], [2, 1], nsamples=(400, 100), dtype=complex)"
   ]
  },
  {
   "cell_type": "code",
   "execution_count": null,
   "metadata": {
    "collapsed": false
   },
   "outputs": [],
   "source": [
    "l2_discr.domain"
   ]
  },
  {
   "cell_type": "code",
   "execution_count": null,
   "metadata": {
    "collapsed": false
   },
   "outputs": [],
   "source": [
    "l2_discr.cell_sides  # Side lengths of the pixels"
   ]
  },
  {
   "cell_type": "markdown",
   "metadata": {},
   "source": [
    "Next, we createt the Fourier transform operator on this domain. Its range is inferred by default but can be specified explicitly. For the computation of the trigonometric sums (DFT), the [Numpy backend built on FFTPACK](http://docs.scipy.org/doc/numpy/reference/routines.fft.html) is used by default. ODL also supports the significantly faster [pyFFTW](https://pypi.python.org/pypi/pyFFTW) backend (requires installation of that package)."
   ]
  },
  {
   "cell_type": "code",
   "execution_count": null,
   "metadata": {
    "collapsed": true
   },
   "outputs": [],
   "source": [
    "fourier_trafo = odl.trafos.FourierTransform(l2_discr)"
   ]
  },
  {
   "cell_type": "markdown",
   "metadata": {},
   "source": [
    "Now the FT is available as an operator. We can check on which domain the transformed functions are defined:"
   ]
  },
  {
   "cell_type": "code",
   "execution_count": null,
   "metadata": {
    "collapsed": false
   },
   "outputs": [],
   "source": [
    "fourier_trafo.range.domain  # The definition domain of functions in the range of the transform"
   ]
  },
  {
   "cell_type": "markdown",
   "metadata": {},
   "source": [
    "The side lenghts of the rectangle are $2\\pi / s$, where $s = 0.01$ is the pixel side length of the real space grid. Note that the rectangle is slightly shifted into the negative direction (this can be controlled with a parameter)."
   ]
  },
  {
   "cell_type": "code",
   "execution_count": null,
   "metadata": {
    "collapsed": false
   },
   "outputs": [],
   "source": [
    "fourier_trafo.range.domain.extent() * fourier_trafo.domain.cell_sides / (2 * np.pi)"
   ]
  },
  {
   "cell_type": "markdown",
   "metadata": {},
   "source": [
    "Now let's create a function and transform it!"
   ]
  },
  {
   "cell_type": "code",
   "execution_count": null,
   "metadata": {
    "collapsed": false
   },
   "outputs": [],
   "source": [
    "% matplotlib inline\n",
    "phantom = odl.util.phantom.shepp_logan(l2_discr, modified=True)  # Shepp-Logan phantom in the discretized space\n",
    "fig = phantom.show('The famous Shepp-Logan phantom')  # Storing the figure so we don't get two inline plots"
   ]
  },
  {
   "cell_type": "code",
   "execution_count": null,
   "metadata": {
    "collapsed": false
   },
   "outputs": [],
   "source": [
    "phantom_ft = fourier_trafo(phantom)\n",
    "fig = phantom_ft.show('Fourier transform of the phantom')"
   ]
  },
  {
   "cell_type": "markdown",
   "metadata": {},
   "source": [
    "We can also calculate partial Fourier transform, e.g. only along the first coordinate axis:\n",
    "\n",
    "$$\n",
    "\\mathcal{F}_0(f)(\\xi_0, x_1) = (2\\pi)^{-\\frac{1}{2}}\n",
    "    \\int_{\\mathbb{R}} f(x_0, x_1)\\ e^{-i x_0 \\xi_0} \\, \\mathrm{d}x_0\n",
    "$$"
   ]
  },
  {
   "cell_type": "markdown",
   "metadata": {},
   "source": [
    "This is done with the `axes` parameter in the initialization of the FT:"
   ]
  },
  {
   "cell_type": "code",
   "execution_count": null,
   "metadata": {
    "collapsed": true
   },
   "outputs": [],
   "source": [
    "partial_ft = odl.trafos.FourierTransform(l2_discr, axes=[0])"
   ]
  },
  {
   "cell_type": "markdown",
   "metadata": {},
   "source": [
    "Let's check out the definition domain of functions transformed by this operator."
   ]
  },
  {
   "cell_type": "code",
   "execution_count": null,
   "metadata": {
    "collapsed": false
   },
   "outputs": [],
   "source": [
    "partial_ft.range.domain"
   ]
  },
  {
   "cell_type": "markdown",
   "metadata": {},
   "source": [
    "Only the first axis of the domain has been transformed into reciprocal space. So how does such a transform look like?"
   ]
  },
  {
   "cell_type": "code",
   "execution_count": null,
   "metadata": {
    "collapsed": false
   },
   "outputs": [],
   "source": [
    "phantom_partial_ft = partial_ft(phantom)\n",
    "fig = phantom_partial_ft.show('Partial FT along the first axis')"
   ]
  },
  {
   "cell_type": "code",
   "execution_count": null,
   "metadata": {
    "collapsed": true
   },
   "outputs": [],
   "source": []
  }
 ],
 "metadata": {
  "kernelspec": {
   "display_name": "Python 3",
   "language": "python",
   "name": "python3"
  },
  "language_info": {
   "codemirror_mode": {
    "name": "ipython",
    "version": 3
   },
   "file_extension": ".py",
   "mimetype": "text/x-python",
   "name": "python",
   "nbconvert_exporter": "python",
   "pygments_lexer": "ipython3",
   "version": "3.5.2"
  }
 },
 "nbformat": 4,
 "nbformat_minor": 0
}
