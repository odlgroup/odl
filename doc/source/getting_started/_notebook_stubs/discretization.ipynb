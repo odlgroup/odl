{
 "cells": [
  {
   "cell_type": "markdown",
   "metadata": {},
   "source": [
    "## Discretization example\n",
    "\n",
    "We create a discretized space of functions in $\\mathbb{R}^2$ and do some simple calculations."
   ]
  },
  {
   "cell_type": "code",
   "execution_count": null,
   "metadata": {
    "collapsed": true
   },
   "outputs": [],
   "source": [
    "import odl"
   ]
  },
  {
   "cell_type": "markdown",
   "metadata": {},
   "source": [
    "First we create a discretization of the space $L^2(\\Omega)$ with a rectangular domain $\\Omega \\subset \\mathbb{R}^2$. The simplest way to do this is to use the `uniform_discr` function:"
   ]
  },
  {
   "cell_type": "code",
   "execution_count": null,
   "metadata": {
    "collapsed": false
   },
   "outputs": [],
   "source": [
    "l2_discr = odl.uniform_discr([-1, -1], [1, 1], nsamples=[200, 200])"
   ]
  },
  {
   "cell_type": "markdown",
   "metadata": {},
   "source": [
    "This function returns a Lebesgue $L^p$ space with default exponent $p=2$ and nearest neighbor interpolation, which can be changed by parameters. We can check its attributes:"
   ]
  },
  {
   "cell_type": "code",
   "execution_count": null,
   "metadata": {
    "collapsed": false
   },
   "outputs": [],
   "source": [
    "l2_discr.exponent  # The p in L^p"
   ]
  },
  {
   "cell_type": "code",
   "execution_count": null,
   "metadata": {
    "collapsed": false
   },
   "outputs": [],
   "source": [
    "l2_discr.domain  # The domain Omega of the discretized functions"
   ]
  },
  {
   "cell_type": "code",
   "execution_count": null,
   "metadata": {
    "collapsed": false
   },
   "outputs": [],
   "source": [
    "l2_discr.interp  # Interpolation scheme per dimension"
   ]
  },
  {
   "cell_type": "markdown",
   "metadata": {},
   "source": [
    "Now we can create elements in this space and do some calculations with them. All these operations use [Numpy](http://www.numpy.org/) for fast array computations:"
   ]
  },
  {
   "cell_type": "code",
   "execution_count": null,
   "metadata": {
    "collapsed": false
   },
   "outputs": [],
   "source": [
    "% matplotlib inline\n",
    "phantom = odl.util.phantom.shepp_logan(l2_discr, modified=True)  # Create a Shepp-Logan phantom in the chosen space\n",
    "fig = phantom.show('The famous Shepp-Logan phantom')  # Storing the figure to suppress (double) instant plotting"
   ]
  },
  {
   "cell_type": "code",
   "execution_count": null,
   "metadata": {
    "collapsed": false
   },
   "outputs": [],
   "source": [
    "phantom.norm()  # Approximation to the true function norm"
   ]
  },
  {
   "cell_type": "code",
   "execution_count": null,
   "metadata": {
    "collapsed": false
   },
   "outputs": [],
   "source": [
    "one = l2_discr.one()  # The constant one function\n",
    "one.norm()  # Square root of the domain area"
   ]
  },
  {
   "cell_type": "code",
   "execution_count": null,
   "metadata": {
    "collapsed": false
   },
   "outputs": [],
   "source": [
    "lincomb = 2 * phantom + 3 * one  # This creates a new element 'lincomb'\n",
    "lincomb.norm()"
   ]
  },
  {
   "cell_type": "markdown",
   "metadata": {},
   "source": [
    "We can also do computations in place to avoid allocation of new memory. The `element()` method can be used to simply allocate memory for a re-usable temporary element which can hold intermediate values:"
   ]
  },
  {
   "cell_type": "code",
   "execution_count": null,
   "metadata": {
    "collapsed": false
   },
   "outputs": [],
   "source": [
    "buffer = l2_discr.element()  # Uninitialized memory\n",
    "buffer.lincomb(2, phantom, 3, one)  # Same linear combination as above, but the result is stored in 'buffer'\n",
    "buffer.norm()"
   ]
  }
 ],
 "metadata": {
  "kernelspec": {
   "display_name": "Python 3",
   "language": "python",
   "name": "python3"
  },
  "language_info": {
   "codemirror_mode": {
    "name": "ipython",
    "version": 3
   },
   "file_extension": ".py",
   "mimetype": "text/x-python",
   "name": "python",
   "nbconvert_exporter": "python",
   "pygments_lexer": "ipython3",
   "version": "3.5.2"
  }
 },
 "nbformat": 4,
 "nbformat_minor": 0
}
