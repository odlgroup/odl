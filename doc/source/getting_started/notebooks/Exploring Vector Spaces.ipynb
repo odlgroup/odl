{
 "cells": [
  {
   "cell_type": "markdown",
   "metadata": {},
   "source": [
    "# Exploring vector spaces"
   ]
  },
  {
   "cell_type": "markdown",
   "metadata": {},
   "source": [
    "The first tutorial showed some very basic functionality about vectors and spaces containing them. This tutorial explores the topic a bit further and introduces some more interesting and useful functionality. As usual, we start by importing the `odl` module, and this time we also add `numpy` for later."
   ]
  },
  {
   "cell_type": "code",
   "execution_count": 1,
   "metadata": {
    "collapsed": true
   },
   "outputs": [],
   "source": [
    "from __future__ import print_function  # For Python2 compatibility\n",
    "import numpy as np\n",
    "import odl"
   ]
  },
  {
   "cell_type": "markdown",
   "metadata": {},
   "source": [
    "As seen before, one way to create a space of 3-element vectors with a certain data type is to use the `odl.fn` constructor:"
   ]
  },
  {
   "cell_type": "code",
   "execution_count": 2,
   "metadata": {
    "collapsed": false
   },
   "outputs": [
    {
     "data": {
      "text/plain": [
       "fn(3, 'int')"
      ]
     },
     "execution_count": 2,
     "metadata": {},
     "output_type": "execute_result"
    }
   ],
   "source": [
    "odl.fn(3, 'int')"
   ]
  },
  {
   "cell_type": "code",
   "execution_count": 3,
   "metadata": {
    "collapsed": false
   },
   "outputs": [
    {
     "data": {
      "text/plain": [
       "rn(3)"
      ]
     },
     "execution_count": 3,
     "metadata": {},
     "output_type": "execute_result"
    }
   ],
   "source": [
    "odl.fn(3, 'float')"
   ]
  },
  {
   "cell_type": "code",
   "execution_count": 4,
   "metadata": {
    "collapsed": false
   },
   "outputs": [
    {
     "data": {
      "text/plain": [
       "cn(3)"
      ]
     },
     "execution_count": 4,
     "metadata": {},
     "output_type": "execute_result"
    }
   ],
   "source": [
    "odl.fn(3, 'complex')"
   ]
  },
  {
   "cell_type": "markdown",
   "metadata": {},
   "source": [
    "The spaces with real or complex floating point data types have own constructors `rn` and `cn`, mostly because they are most heavily used. Mathematically, they stand for $n$-dimensional Euclidean spaces $\\mathbb{R}^n$ or $\\mathbb{C}^n$, respectively, where in our case, $n = 3$. In general, we usually write $\\mathbb{F}$ for \"$\\mathbb{R}$ or $\\mathbb{C}$\" and $\\mathbb{F}^n$ for the $n$-dimensional Euclidean vector space over the *field* $\\mathbb{F}$.\n",
    "\n",
    "Besides the arithmetic operations in Tutorial 1, Euclidean spaces have further structure, for example\n",
    "- an [inner product](https://en.wikipedia.org/wiki/Inner_product_space) that allows measuring angles between vectors,\n",
    "- a <a href=\"https://en.wikipedia.org/wiki/Norm_(mathematics)\">norm</a> for measuring the length of a vector, and\n",
    "- a <a href=\"https://en.wikipedia.org/wiki/Metric_(mathematics)\">metric</a> to determine distances between points in space.\n",
    "\n",
    "For simplicity, we look at the space $\\mathbb{R}^n$ -- everything can be generalized for the complex case."
   ]
  },
  {
   "cell_type": "markdown",
   "metadata": {},
   "source": [
    "## Inner products"
   ]
  },
  {
   "cell_type": "markdown",
   "metadata": {},
   "source": [
    "An inner product takes two vectors in the space $\\mathbb{R}^n$ and produces a real number:\n",
    "\n",
    "$$\n",
    "    \\langle\\cdot, \\cdot\\rangle : \\mathbb{R}^n \\times \\mathbb{R}^n \\to \\mathbb{R}.\n",
    "$$\n",
    "\n",
    "It is *linear in the first argument*, *conjuagte-symmetric* and *positive definite*. Check [here](https://en.wikipedia.org/wiki/Inner_product_space#Definition) for the exact definitions. The standard inner product on $\\mathbb{R}^n$ is also known as \"dot product\" and defined as\n",
    "\n",
    "$$\n",
    "    \\langle x, y\\rangle_{\\mathbb{R}^n} := \\sum_{k=1}^n x_k y_k.\n",
    "$$\n",
    "\n",
    "In ODL, it is available as `inner` method both on the space, i.e., `space.inner(vec1, vec2)`, or on the space element, `vec1.inner(vec2)`. Let's try it out:"
   ]
  },
  {
   "cell_type": "code",
   "execution_count": 5,
   "metadata": {
    "collapsed": true
   },
   "outputs": [],
   "source": [
    "space = odl.rn(3)\n",
    "vec1 = space.element([1, 2, 3])\n",
    "vec2 = space.element([1, -1, 1])"
   ]
  },
  {
   "cell_type": "code",
   "execution_count": 6,
   "metadata": {
    "collapsed": false
   },
   "outputs": [
    {
     "data": {
      "text/plain": [
       "2.0"
      ]
     },
     "execution_count": 6,
     "metadata": {},
     "output_type": "execute_result"
    }
   ],
   "source": [
    "space.inner(vec1, vec2)  # 1*1 + 2*(-1) + 3*1 = 2"
   ]
  },
  {
   "cell_type": "code",
   "execution_count": 7,
   "metadata": {
    "collapsed": false
   },
   "outputs": [
    {
     "data": {
      "text/plain": [
       "2.0"
      ]
     },
     "execution_count": 7,
     "metadata": {},
     "output_type": "execute_result"
    }
   ],
   "source": [
    "vec1.inner(vec2)"
   ]
  },
  {
   "cell_type": "markdown",
   "metadata": {},
   "source": [
    "We can calculate angles by the formula\n",
    "\n",
    "$$\n",
    "    \\cos \\angle(x, y) = \\frac{\\langle x, y \\rangle}{\\sqrt{\\langle x, x \\rangle \\langle y, y \\rangle}}\n",
    "$$\n",
    "\n",
    "For example, the angle between $x = (1, 1, 0)$ and $(1, 0, 0)$ should be 45 degrees:"
   ]
  },
  {
   "cell_type": "code",
   "execution_count": 8,
   "metadata": {
    "collapsed": false
   },
   "outputs": [
    {
     "name": "stdout",
     "output_type": "stream",
     "text": [
      "The angle between [1.0, 1.0, 0.0] and [1.0, 0.0, 0.0] is 45.00000000000001 degrees.\n"
     ]
    }
   ],
   "source": [
    "RAD2DEG = 180 / np.pi  # conversion factor to degrees\n",
    "x = space.element([1, 1, 0])\n",
    "y = space.element([1, 0, 0])\n",
    "\n",
    "cos_angle_rad = x.inner(y) / np.sqrt(x.inner(x) * y.inner(y))\n",
    "angle_rad = np.arccos(cos_angle_rad)\n",
    "angle_deg = angle_rad * RAD2DEG\n",
    "print('The angle between {} and {} is {} degrees.'.format(x, y, angle_deg))"
   ]
  },
  {
   "cell_type": "markdown",
   "metadata": {},
   "source": [
    "## Norms"
   ]
  },
  {
   "cell_type": "markdown",
   "metadata": {
    "collapsed": true
   },
   "source": [
    "A norm takes a vector in $\\mathbb{R}^n$ and maps it to a postive number:\n",
    "\n",
    "$$\n",
    "    \\|\\cdot\\| : \\mathbb{R}^n \\to [0, \\infty)\n",
    "$$\n",
    "\n",
    "It is *positively one-homogeneous*, *positive definite* and satisfies the *triangle inequality*, see <a href=\"https://en.wikipedia.org/wiki/Norm_(mathematics)\">here</a> for details. The standard norm on $\\mathbb{R}^n$ is the root of the sum of squares of all components:\n",
    "\n",
    "$$\n",
    "    \\|x\\|_2 = \\sqrt{\\sum_{k=1}^n x_k^2}\n",
    "$$\n",
    "\n",
    "This is just the same as $\\sqrt{\\langle x, x\\rangle}$ -- the norm is *induced* by the inner product.\n",
    "\n",
    "Again, this function is available as a space method `space.norm(vec)` or as method on the element itself, `vec.norm()`:"
   ]
  },
  {
   "cell_type": "code",
   "execution_count": 9,
   "metadata": {
    "collapsed": true
   },
   "outputs": [],
   "source": [
    "x = space.element([2, 3, 6])  # has norm sqrt(2*2 + 3*3 + 6*6) = 7"
   ]
  },
  {
   "cell_type": "code",
   "execution_count": 10,
   "metadata": {
    "collapsed": false
   },
   "outputs": [
    {
     "data": {
      "text/plain": [
       "7.0"
      ]
     },
     "execution_count": 10,
     "metadata": {},
     "output_type": "execute_result"
    }
   ],
   "source": [
    "space.norm(x)"
   ]
  },
  {
   "cell_type": "code",
   "execution_count": 11,
   "metadata": {
    "collapsed": false
   },
   "outputs": [
    {
     "data": {
      "text/plain": [
       "7.0"
      ]
     },
     "execution_count": 11,
     "metadata": {},
     "output_type": "execute_result"
    }
   ],
   "source": [
    "x.norm()"
   ]
  },
  {
   "cell_type": "markdown",
   "metadata": {},
   "source": [
    "There is a variety of norms on $\\mathbb{R}^n$ that are not induced by an inner product. They are parametrized by a real number $p \\in [1, \\infty]$ and are defined as\n",
    "\n",
    "$$\n",
    "    \\|x\\|_p = \\left( \\sum_{k=1}^n |x_k|^p \\right)^{1/p}\\quad \\text{for } p < \\infty \\text{ and}\\quad \\|x\\|_\\infty = \\max_k |x_k|\\quad \\text{for } p = \\infty.\n",
    "$$\n",
    "\n",
    "(In principle, also $p < 1$ is allowed, but the resulting function is no longer a norm)\n",
    "In NumPy, norms are implemented in the function [`numpy.linalg.norm`](https://docs.scipy.org/doc/numpy/reference/generated/numpy.linalg.norm.html), and the $p$ parameter can be chosen via the `ord` argument.\n",
    "\n",
    "To use these norm variants in ODL, the space must be initialized with the `exponent` argument:"
   ]
  },
  {
   "cell_type": "code",
   "execution_count": 12,
   "metadata": {
    "collapsed": false
   },
   "outputs": [
    {
     "data": {
      "text/plain": [
       "rn(3, exponent=1.0)"
      ]
     },
     "execution_count": 12,
     "metadata": {},
     "output_type": "execute_result"
    }
   ],
   "source": [
    "space = odl.rn(3, exponent=1)\n",
    "space"
   ]
  },
  {
   "cell_type": "markdown",
   "metadata": {},
   "source": [
    "Since the value of the exponent deviates from the default 2, it is also printed in the representation. Now we can go back to the example above and compute the norm in this space:"
   ]
  },
  {
   "cell_type": "code",
   "execution_count": 13,
   "metadata": {
    "collapsed": false
   },
   "outputs": [
    {
     "data": {
      "text/plain": [
       "11.0"
      ]
     },
     "execution_count": 13,
     "metadata": {},
     "output_type": "execute_result"
    }
   ],
   "source": [
    "x = space.element([2, 3, 6])  # has norm 2 + 3 + 6 = 11\n",
    "x.norm()"
   ]
  },
  {
   "cell_type": "markdown",
   "metadata": {},
   "source": [
    "**Important:**\n",
    "- Two otherwise equal spaces with differing exponent are considered different in ODL. The main reason for this is that only for `exponent=2.0`, the norm is induced by an inner product. For all other choices, `space.inner` is not defined!\n",
    "- A vector \"knows\" to which space it belongs, i.e. if `x` was created in a space with one exponent, it is not considered and element of another space with a different exponent."
   ]
  },
  {
   "cell_type": "code",
   "execution_count": 14,
   "metadata": {
    "collapsed": false
   },
   "outputs": [
    {
     "data": {
      "text/plain": [
       "False"
      ]
     },
     "execution_count": 14,
     "metadata": {},
     "output_type": "execute_result"
    }
   ],
   "source": [
    "odl.rn(3, exponent=1) == odl.rn(3, exponent=2)"
   ]
  },
  {
   "cell_type": "code",
   "execution_count": 15,
   "metadata": {
    "collapsed": false
   },
   "outputs": [
    {
     "data": {
      "text/plain": [
       "False"
      ]
     },
     "execution_count": 15,
     "metadata": {},
     "output_type": "execute_result"
    }
   ],
   "source": [
    "odl.rn(3, exponent=1).element([1, 2, 3]) in odl.rn(3)"
   ]
  },
  {
   "cell_type": "markdown",
   "metadata": {},
   "source": [
    "If we try to call the `inner` method on either a space or an element of it, we get an error if `exponent != 2`:"
   ]
  },
  {
   "cell_type": "code",
   "execution_count": 16,
   "metadata": {
    "collapsed": true
   },
   "outputs": [],
   "source": [
    "space = odl.rn(3, exponent=1)\n",
    "x = space.element([1, 2, 3])\n",
    "y = space.element([1, 0, -1])"
   ]
  },
  {
   "cell_type": "code",
   "execution_count": 17,
   "metadata": {
    "collapsed": false
   },
   "outputs": [
    {
     "name": "stdout",
     "output_type": "stream",
     "text": [
      "NotImplementedError: no inner product defined for exponent != 2 (got 1.0)\n"
     ]
    }
   ],
   "source": [
    "# We don't want to see a long traceback, only the error message.\n",
    "# Don't worry too much about the details in the print statement :-).\n",
    "try:\n",
    "    space.inner(x, y)\n",
    "except Exception as exc:\n",
    "    print('{}: {}'.format(exc.__class__.__name__, exc))"
   ]
  },
  {
   "cell_type": "code",
   "execution_count": 18,
   "metadata": {
    "collapsed": false
   },
   "outputs": [
    {
     "name": "stdout",
     "output_type": "stream",
     "text": [
      "NotImplementedError: no inner product defined for exponent != 2 (got 1.0)\n"
     ]
    }
   ],
   "source": [
    "try:\n",
    "    x.inner(y)\n",
    "except Exception as exc:\n",
    "    print('{}: {}'.format(exc.__class__.__name__, exc))"
   ]
  },
  {
   "cell_type": "markdown",
   "metadata": {},
   "source": [
    "## Metrics"
   ]
  },
  {
   "cell_type": "markdown",
   "metadata": {},
   "source": [
    "A metric is a measure of distance between points in space, the \"endpoints\" of vectors. It takes two vectors and produces a positive real number:\n",
    "\n",
    "$$\n",
    "    d : \\mathbb{R}^n \\times \\mathbb{R}^n \\to [0, \\infty)\n",
    "$$\n",
    "\n",
    "A metric is *symmetric*, *sub-additive* and *positive definite* -- check the details <a href=\"https://en.wikipedia.org/wiki/Metric_(mathematics)\">here</a>. Most of the time, metrics are induced by norms in the form\n",
    "\n",
    "$$\n",
    "    d(x, y) = \\|x - y\\|.\n",
    "$$\n",
    "\n",
    "On a simple space like $\\mathbb{R}^n$, metrics that are not of this form are unusual, but exist. We go with the default case here.\n",
    "\n",
    "Using again the norm with exponent $p = 1$, we can compute distances with `space.dist(vec1, vec2)` or `vec1.dist(vec2)`:"
   ]
  },
  {
   "cell_type": "code",
   "execution_count": 19,
   "metadata": {
    "collapsed": false
   },
   "outputs": [
    {
     "data": {
      "text/plain": [
       "6.0"
      ]
     },
     "execution_count": 19,
     "metadata": {},
     "output_type": "execute_result"
    }
   ],
   "source": [
    "space = odl.rn(3, exponent=1)\n",
    "x = space.element([1, 2, 3])\n",
    "y = space.element([1, 0, -1])\n",
    "# Distance is: (1-1) + (2-0) + (3-(-1)) = 6\n",
    "space.dist(x, y)"
   ]
  },
  {
   "cell_type": "code",
   "execution_count": 20,
   "metadata": {
    "collapsed": false
   },
   "outputs": [
    {
     "data": {
      "text/plain": [
       "True"
      ]
     },
     "execution_count": 20,
     "metadata": {},
     "output_type": "execute_result"
    }
   ],
   "source": [
    "zero = space.element([0, 0, 0])\n",
    "x.dist(zero) == x.norm()"
   ]
  },
  {
   "cell_type": "markdown",
   "metadata": {},
   "source": [
    "## Some random but relevant details"
   ]
  },
  {
   "cell_type": "markdown",
   "metadata": {},
   "source": [
    "- Calling `space.element()` without arguments allocates memory but does not initialize. It is similar to `numpy.empty`:"
   ]
  },
  {
   "cell_type": "code",
   "execution_count": 21,
   "metadata": {
    "collapsed": false
   },
   "outputs": [
    {
     "data": {
      "text/plain": [
       "rn(3).element([1.0, 2.0, 3.0])"
      ]
     },
     "execution_count": 21,
     "metadata": {},
     "output_type": "execute_result"
    }
   ],
   "source": [
    "odl.rn(3).element()  # No guarantee for values"
   ]
  },
  {
   "cell_type": "markdown",
   "metadata": {},
   "source": [
    "- Elements with all zeros or all ones can be created with `space.zero()` or `space.one()`, respectively:"
   ]
  },
  {
   "cell_type": "code",
   "execution_count": 22,
   "metadata": {
    "collapsed": false
   },
   "outputs": [
    {
     "data": {
      "text/plain": [
       "rn(3).element([0.0, 0.0, 0.0])"
      ]
     },
     "execution_count": 22,
     "metadata": {},
     "output_type": "execute_result"
    }
   ],
   "source": [
    "odl.rn(3).zero()"
   ]
  },
  {
   "cell_type": "code",
   "execution_count": 23,
   "metadata": {
    "collapsed": false
   },
   "outputs": [
    {
     "data": {
      "text/plain": [
       "rn(3).element([1.0, 1.0, 1.0])"
      ]
     },
     "execution_count": 23,
     "metadata": {},
     "output_type": "execute_result"
    }
   ],
   "source": [
    "odl.rn(3).one()"
   ]
  },
  {
   "cell_type": "markdown",
   "metadata": {},
   "source": [
    "- The `rn` and `cn` also accept a `dtype` argument. This parameter also makes for distinct spaces:"
   ]
  },
  {
   "cell_type": "code",
   "execution_count": 24,
   "metadata": {
    "collapsed": false
   },
   "outputs": [
    {
     "data": {
      "text/plain": [
       "rn(3, 'float32')"
      ]
     },
     "execution_count": 24,
     "metadata": {},
     "output_type": "execute_result"
    }
   ],
   "source": [
    "space_f32 = odl.rn(3, dtype='float32')\n",
    "space_f32"
   ]
  },
  {
   "cell_type": "code",
   "execution_count": 25,
   "metadata": {
    "collapsed": false
   },
   "outputs": [
    {
     "data": {
      "text/plain": [
       "False"
      ]
     },
     "execution_count": 25,
     "metadata": {},
     "output_type": "execute_result"
    }
   ],
   "source": [
    "space_f64 = odl.rn(3, dtype='float64')\n",
    "space_f32 == space_f64"
   ]
  },
  {
   "cell_type": "code",
   "execution_count": 26,
   "metadata": {
    "collapsed": false
   },
   "outputs": [
    {
     "data": {
      "text/plain": [
       "False"
      ]
     },
     "execution_count": 26,
     "metadata": {},
     "output_type": "execute_result"
    }
   ],
   "source": [
    "space_f32.element() in space_f64"
   ]
  },
  {
   "cell_type": "markdown",
   "metadata": {},
   "source": [
    "- The data container of a space element (by default a Numpy array) can be retrieved by the `vec.asarray()` method. Note, however, that *mutating this array is not guaranteed to mutate the vector*. To be sure, the result must be re-assigned to the vector."
   ]
  },
  {
   "cell_type": "code",
   "execution_count": 27,
   "metadata": {
    "collapsed": false
   },
   "outputs": [
    {
     "data": {
      "text/plain": [
       "rn(3).element([2.0, 2.0, 2.0])"
      ]
     },
     "execution_count": 27,
     "metadata": {},
     "output_type": "execute_result"
    }
   ],
   "source": [
    "x = odl.rn(3).one()\n",
    "x_arr = x.asarray()\n",
    "x_arr[:] = 2\n",
    "x[:] = x_arr  # no-op in this case\n",
    "x"
   ]
  },
  {
   "cell_type": "markdown",
   "metadata": {},
   "source": [
    "- NumPy arrays are merely wrapped if possible, i.e., if the default `'numpy'` back-end is used and if the data types of array and space are the same:"
   ]
  },
  {
   "cell_type": "code",
   "execution_count": 28,
   "metadata": {
    "collapsed": false
   },
   "outputs": [
    {
     "data": {
      "text/plain": [
       "array([-1., -1., -1.], dtype=float32)"
      ]
     },
     "execution_count": 28,
     "metadata": {},
     "output_type": "execute_result"
    }
   ],
   "source": [
    "array_f32 = np.array([4, 5, 6], dtype='float32')\n",
    "space_f32 = odl.rn(3, dtype='float32')\n",
    "x_f32 = space_f32.element(array_f32)\n",
    "x_f32[:] = -1\n",
    "array_f32  # modified"
   ]
  },
  {
   "cell_type": "code",
   "execution_count": 29,
   "metadata": {
    "collapsed": false
   },
   "outputs": [
    {
     "data": {
      "text/plain": [
       "array([-1., -1., -1.], dtype=float32)"
      ]
     },
     "execution_count": 29,
     "metadata": {},
     "output_type": "execute_result"
    }
   ],
   "source": [
    "space_f64 = odl.rn(3, dtype='float64')\n",
    "x_f64 = space_f64.element(array_f32)\n",
    "x_f64[:] = 17\n",
    "array_f32  # same as before"
   ]
  },
  {
   "cell_type": "markdown",
   "metadata": {
    "collapsed": true
   },
   "source": [
    "## Wrap-up\n",
    "\n",
    "We have covered these topics:\n",
    "- real and complex Euclidean spaces,\n",
    "- inner products,\n",
    "- norms,\n",
    "- metrics,\n",
    "- how to create an empty element,\n",
    "- how to create an element of all zeros or ones,\n",
    "- how to use different data types,\n",
    "- under which conditions Numpy arrays are wrapped rather than copied."
   ]
  }
 ],
 "metadata": {
  "kernelspec": {
   "display_name": "Python 3",
   "language": "python",
   "name": "python3"
  },
  "language_info": {
   "codemirror_mode": {
    "name": "ipython",
    "version": 3
   },
   "file_extension": ".py",
   "mimetype": "text/x-python",
   "name": "python",
   "nbconvert_exporter": "python",
   "pygments_lexer": "ipython3",
   "version": "3.5.2"
  }
 },
 "nbformat": 4,
 "nbformat_minor": 2
}
