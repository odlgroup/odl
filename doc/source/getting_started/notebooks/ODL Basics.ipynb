{
 "cells": [
  {
   "cell_type": "markdown",
   "metadata": {},
   "source": [
    "# ODL Basics"
   ]
  },
  {
   "cell_type": "markdown",
   "metadata": {},
   "source": [
    "Welcome to your first tutorial. Here you will learn the basics of linear spaces, vectors and related functionality as used throughout ODL. The main purpose is to get you accustomed to working with the library, the \"look and feel\" of typical code and some building blocks and patterns that repeat themselves in other parts. We will explain them as we go along.\n",
    "\n",
    "At this point, you should have a working installation of ODL on your machine. If that's not the case, check out [the installation instructions](https://odlgroup.github.io/odl/getting_started/installing.html) and come back when you're finished!"
   ]
  },
  {
   "cell_type": "code",
   "execution_count": 1,
   "metadata": {
    "collapsed": true
   },
   "outputs": [],
   "source": [
    "from __future__ import print_function  # We import this for Python 2 compatibility\n",
    "import odl"
   ]
  },
  {
   "cell_type": "markdown",
   "metadata": {},
   "source": [
    "Everything starts with importing the package. If you want to explore it, you can type `odl.` and hit `<TAB>` in an interactive shell (for example [IPython](https://ipython.org/)) to see all its top-level contents. The `odl` package is organized into several sub-packages, but the most important core functions and classes are available at the top level, so you don't have to type `odl.subpackage1.subpackage2.module.function` all the time.\n",
    "\n",
    "Now the simplest kind of mathematical object you can create in ODL is a *vector*. If you're familiar with [NumPy](http://www.numpy.org/), you can simply think of a `numpy.ndarray`."
   ]
  },
  {
   "cell_type": "code",
   "execution_count": 2,
   "metadata": {
    "collapsed": false
   },
   "outputs": [
    {
     "name": "stdout",
     "output_type": "stream",
     "text": [
      "[1, 2, 3]\n"
     ]
    }
   ],
   "source": [
    "x = odl.vector([1, 2, 3])\n",
    "print(x)"
   ]
  },
  {
   "cell_type": "markdown",
   "metadata": {},
   "source": [
    "In fact, the default implementation of a `vector` is just a thin wrapper around `numpy.ndarray`. However, this back-end can be switched for something else, e.g., a CUDA-based data container. On the surface it will look exactly the same, and the differences will be entirely under the hood. More on that later.\n",
    "\n",
    "Let's look at the representation (`repr`) of `x` to get some additional information beyond the pretty-printing above:"
   ]
  },
  {
   "cell_type": "code",
   "execution_count": 3,
   "metadata": {
    "collapsed": false
   },
   "outputs": [
    {
     "data": {
      "text/plain": [
       "fn(3, 'int').element([1, 2, 3])"
      ]
     },
     "execution_count": 3,
     "metadata": {},
     "output_type": "execute_result"
    }
   ],
   "source": [
    "x  # or print(repr(x))"
   ]
  },
  {
   "cell_type": "markdown",
   "metadata": {},
   "source": [
    "Hm, this is interesting. Obviously, there's more to this vector than just its values. The line printed above suggests that it is an `element` of something called `fn`. Let's see if we can just look at the first part of that expression, of course prepending the package name and a dot, a trick we know from NumPy:"
   ]
  },
  {
   "cell_type": "code",
   "execution_count": 4,
   "metadata": {
    "collapsed": false
   },
   "outputs": [
    {
     "data": {
      "text/plain": [
       "fn(3, 'int')"
      ]
     },
     "execution_count": 4,
     "metadata": {},
     "output_type": "execute_result"
    }
   ],
   "source": [
    "odl.fn(3, 'int')"
   ]
  },
  {
   "cell_type": "markdown",
   "metadata": {},
   "source": [
    "Okay, the code works, so we can try to run the whole line in the representation of `x`."
   ]
  },
  {
   "cell_type": "code",
   "execution_count": 5,
   "metadata": {
    "collapsed": false
   },
   "outputs": [
    {
     "data": {
      "text/plain": [
       "fn(3, 'int').element([1, 2, 3])"
      ]
     },
     "execution_count": 5,
     "metadata": {},
     "output_type": "execute_result"
    }
   ],
   "source": [
    "odl.fn(3, 'int').element([1, 2, 3])"
   ]
  },
  {
   "cell_type": "code",
   "execution_count": 6,
   "metadata": {
    "collapsed": false
   },
   "outputs": [
    {
     "data": {
      "text/plain": [
       "True"
      ]
     },
     "execution_count": 6,
     "metadata": {},
     "output_type": "execute_result"
    }
   ],
   "source": [
    "odl.fn(3, 'int').element([1, 2, 3]) == x"
   ]
  },
  {
   "cell_type": "code",
   "execution_count": 7,
   "metadata": {
    "collapsed": false
   },
   "outputs": [
    {
     "data": {
      "text/plain": [
       "False"
      ]
     },
     "execution_count": 7,
     "metadata": {},
     "output_type": "execute_result"
    }
   ],
   "source": [
    "odl.fn(3, 'int').element([1, 2, 3]) is x"
   ]
  },
  {
   "cell_type": "markdown",
   "metadata": {},
   "source": [
    "So we can recreate `x` with its `repr` code, but it's a new vector, not identical to `x`. Of course, we should be able to create other vectors, too, and add them, subtract, multiply and so on."
   ]
  },
  {
   "cell_type": "code",
   "execution_count": 8,
   "metadata": {
    "collapsed": true
   },
   "outputs": [],
   "source": [
    "y = odl.vector([4, 5, 6])"
   ]
  },
  {
   "cell_type": "code",
   "execution_count": 9,
   "metadata": {
    "collapsed": false
   },
   "outputs": [
    {
     "data": {
      "text/plain": [
       "fn(3, 'int').element([5, 7, 9])"
      ]
     },
     "execution_count": 9,
     "metadata": {},
     "output_type": "execute_result"
    }
   ],
   "source": [
    "x + y"
   ]
  },
  {
   "cell_type": "code",
   "execution_count": 10,
   "metadata": {
    "collapsed": false
   },
   "outputs": [
    {
     "data": {
      "text/plain": [
       "fn(3, 'int').element([-3, -3, -3])"
      ]
     },
     "execution_count": 10,
     "metadata": {},
     "output_type": "execute_result"
    }
   ],
   "source": [
    "x - y"
   ]
  },
  {
   "cell_type": "code",
   "execution_count": 11,
   "metadata": {
    "collapsed": false
   },
   "outputs": [
    {
     "data": {
      "text/plain": [
       "fn(3, 'int').element([4, 10, 18])"
      ]
     },
     "execution_count": 11,
     "metadata": {},
     "output_type": "execute_result"
    }
   ],
   "source": [
    "x * y"
   ]
  },
  {
   "cell_type": "markdown",
   "metadata": {},
   "source": [
    "So that works exactly as in NumPy, too. Let's go a step further and check out what this first part `fn(3, 'int')` really means. We already saw that the code runs and produces an output, so we assign it to a variable and look at its properties."
   ]
  },
  {
   "cell_type": "code",
   "execution_count": 12,
   "metadata": {
    "collapsed": true
   },
   "outputs": [],
   "source": [
    "s = odl.fn(3, 'int')"
   ]
  },
  {
   "cell_type": "code",
   "execution_count": 13,
   "metadata": {
    "collapsed": false
   },
   "outputs": [
    {
     "name": "stdout",
     "output_type": "stream",
     "text": [
      "fn(3, 'int')\n"
     ]
    }
   ],
   "source": [
    "print(s)"
   ]
  },
  {
   "cell_type": "code",
   "execution_count": 14,
   "metadata": {
    "collapsed": false
   },
   "outputs": [
    {
     "data": {
      "text/plain": [
       "odl.space.npy_ntuples.NumpyFn"
      ]
     },
     "execution_count": 14,
     "metadata": {},
     "output_type": "execute_result"
    }
   ],
   "source": [
    "type(s)"
   ]
  },
  {
   "cell_type": "markdown",
   "metadata": {},
   "source": [
    "So `s` is an object of type `NumpyFn`. That gives at least a hint that it uses NumPy internally, but what is it? More experienced Python users know that we can print the [docstring](https://www.python.org/dev/peps/pep-0257/#what-is-a-docstring) of any Python object to get more information. Docstrings are strings stored in the object as `object.__doc__` attribute:"
   ]
  },
  {
   "cell_type": "code",
   "execution_count": 15,
   "metadata": {
    "collapsed": false
   },
   "outputs": [
    {
     "name": "stdout",
     "output_type": "stream",
     "text": [
      "Vector space F^n with vector multiplication.\n",
      "\n",
      "    This space implements n-tuples of elements from a `Field` ``F``,\n",
      "    which is usually the real or complex numbers.\n",
      "\n",
      "    Its elements are represented as instances of the `NumpyFnVector` class.\n",
      "    \n"
     ]
    }
   ],
   "source": [
    "print(s.__doc__)"
   ]
  },
  {
   "cell_type": "markdown",
   "metadata": {},
   "source": [
    "This text actually gives quite a lot of information. It tells us that our object `s` created by the command `odl.fn(3, 'int')`\n",
    "- is a [vector space](https://en.wikipedia.org/wiki/Vector_space),\n",
    "- contains vectors of a fixed length `n` (that's the \"n\" in `Fn`),\n",
    "- is constructed over the <a href=\"https://en.wikipedia.org/wiki/Field_(mathematics)\">field</a> (the \"F\" in `Fn`) of real or complex numbers (usually) and\n",
    "- represents its elements as `NumpyFnVector` instances.\n",
    "\n",
    "The last part is easiest to check since we already have an element `x` to test:"
   ]
  },
  {
   "cell_type": "code",
   "execution_count": 16,
   "metadata": {
    "collapsed": false
   },
   "outputs": [
    {
     "data": {
      "text/plain": [
       "odl.space.npy_ntuples.NumpyFnVector"
      ]
     },
     "execution_count": 16,
     "metadata": {},
     "output_type": "execute_result"
    }
   ],
   "source": [
    "type(x)"
   ]
  },
  {
   "cell_type": "markdown",
   "metadata": {},
   "source": [
    "Indeed, the type is the same as the one mentioned in the docstring. We should be able to probe also the other properties."
   ]
  },
  {
   "cell_type": "code",
   "execution_count": 17,
   "metadata": {
    "collapsed": false
   },
   "outputs": [
    {
     "data": {
      "text/plain": [
       "RealNumbers()"
      ]
     },
     "execution_count": 17,
     "metadata": {},
     "output_type": "execute_result"
    }
   ],
   "source": [
    "s.field"
   ]
  },
  {
   "cell_type": "code",
   "execution_count": 18,
   "metadata": {
    "collapsed": false
   },
   "outputs": [
    {
     "data": {
      "text/plain": [
       "3"
      ]
     },
     "execution_count": 18,
     "metadata": {},
     "output_type": "execute_result"
    }
   ],
   "source": [
    "s.size  # the equivalent of \"length\", NumPy users will recognize it"
   ]
  },
  {
   "cell_type": "markdown",
   "metadata": {},
   "source": [
    "Also the word \"contains\" resonates with experienced Python users. They think of the `__contains__` method and want to probe it with the `object in container` expression. Here, the vector should be in the space:"
   ]
  },
  {
   "cell_type": "code",
   "execution_count": 19,
   "metadata": {
    "collapsed": false
   },
   "outputs": [
    {
     "data": {
      "text/plain": [
       "True"
      ]
     },
     "execution_count": 19,
     "metadata": {},
     "output_type": "execute_result"
    }
   ],
   "source": [
    "x in s"
   ]
  },
  {
   "cell_type": "markdown",
   "metadata": {},
   "source": [
    "So we can check member ship of vectors in spaces. Further up, we created another vector `y` from the same space, so it should be contained, too."
   ]
  },
  {
   "cell_type": "code",
   "execution_count": 20,
   "metadata": {
    "collapsed": false
   },
   "outputs": [
    {
     "data": {
      "text/plain": [
       "True"
      ]
     },
     "execution_count": 20,
     "metadata": {},
     "output_type": "execute_result"
    }
   ],
   "source": [
    "y in s"
   ]
  },
  {
   "cell_type": "markdown",
   "metadata": {},
   "source": [
    "This raises, of course, the question which properties of a space are important such that they contain certain types of vectors. As it turns out, pretty much all of them. For example, if we change the `size` parameter (was 3) to anything else, no matter if smaller or larger, `x` won't be contained any longer:"
   ]
  },
  {
   "cell_type": "code",
   "execution_count": 21,
   "metadata": {
    "collapsed": false
   },
   "outputs": [
    {
     "data": {
      "text/plain": [
       "False"
      ]
     },
     "execution_count": 21,
     "metadata": {},
     "output_type": "execute_result"
    }
   ],
   "source": [
    "x in odl.fn(2, 'int')"
   ]
  },
  {
   "cell_type": "code",
   "execution_count": 22,
   "metadata": {
    "collapsed": false
   },
   "outputs": [
    {
     "data": {
      "text/plain": [
       "False"
      ]
     },
     "execution_count": 22,
     "metadata": {},
     "output_type": "execute_result"
    }
   ],
   "source": [
    "x in odl.fn(4, 'int')"
   ]
  },
  {
   "cell_type": "markdown",
   "metadata": {},
   "source": [
    "The second argument, currently `'int'`, looks like a data type, so we can check here, too, if it's important for membership."
   ]
  },
  {
   "cell_type": "code",
   "execution_count": 23,
   "metadata": {
    "collapsed": false
   },
   "outputs": [
    {
     "data": {
      "text/plain": [
       "False"
      ]
     },
     "execution_count": 23,
     "metadata": {},
     "output_type": "execute_result"
    }
   ],
   "source": [
    "x in odl.fn(3, 'uint')  # unsigned integers"
   ]
  },
  {
   "cell_type": "code",
   "execution_count": 24,
   "metadata": {
    "collapsed": false
   },
   "outputs": [
    {
     "data": {
      "text/plain": [
       "False"
      ]
     },
     "execution_count": 24,
     "metadata": {},
     "output_type": "execute_result"
    }
   ],
   "source": [
    "x in odl.fn(3, 'float')  # same as float64, i.e. double precision floats"
   ]
  },
  {
   "cell_type": "markdown",
   "metadata": {},
   "source": [
    "We see that membership really only holds for the exact same data type. There are even more, currently less obvious, parameters which can be tuned. We will cover them in later lessons. Just as a preview: *all of them* are important for space membership."
   ]
  },
  {
   "cell_type": "markdown",
   "metadata": {},
   "source": [
    "## Wrap-up"
   ]
  },
  {
   "cell_type": "markdown",
   "metadata": {},
   "source": [
    "In summary, we have covered the following topics:\n",
    "- How to create a vector\n",
    "- What vectors actually represent (members of vector spaces)\n",
    "- How to create a vector space of a certain size and data type\n",
    "- Properties of vector spaces\n",
    "- When a vector is contained in a space and how to check it"
   ]
  }
 ],
 "metadata": {
  "kernelspec": {
   "display_name": "Python 3",
   "language": "python",
   "name": "python3"
  },
  "language_info": {
   "codemirror_mode": {
    "name": "ipython",
    "version": 3
   },
   "file_extension": ".py",
   "mimetype": "text/x-python",
   "name": "python",
   "nbconvert_exporter": "python",
   "pygments_lexer": "ipython3",
   "version": "3.5.2"
  }
 },
 "nbformat": 4,
 "nbformat_minor": 2
}
